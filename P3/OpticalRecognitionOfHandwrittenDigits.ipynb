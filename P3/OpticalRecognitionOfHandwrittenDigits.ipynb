{
 "cells": [
  {
   "cell_type": "markdown",
   "metadata": {},
   "source": [
    "# Optical Recognition of Handwritten Digits"
   ]
  },
  {
   "cell_type": "code",
   "execution_count": 1,
   "metadata": {},
   "outputs": [],
   "source": [
    "# Importamos las librerías necesarias\n",
    "import numpy as np\n",
    "import pandas as pd\n",
    "import matplotlib.pyplot as plt"
   ]
  },
  {
   "cell_type": "code",
   "execution_count": 2,
   "metadata": {},
   "outputs": [],
   "source": [
    "# Fijamos la semilla\n",
    "np.random.seed(1)\n"
   ]
  },
  {
   "cell_type": "code",
   "execution_count": 3,
   "metadata": {},
   "outputs": [],
   "source": [
    "# Función para leer los datos\n",
    "def leerDatos(file):\n",
    "    datos = pd.read_csv(file, header=None)\n",
    "    X = datos.iloc[:,:-1] # Todas las columnas menos la última\n",
    "    y = datos.iloc[:, -1] # Última columna\n",
    "    return X, y"
   ]
  },
  {
   "cell_type": "code",
   "execution_count": 4,
   "metadata": {},
   "outputs": [],
   "source": [
    "# Lectura de los datos de entrenamiento\n",
    "X_train, y_train = leerDatos('datos/optdigits.tra')\n",
    "# Lectura de los datos para el test\n",
    "X_test, y_test = leerDatos('datos/optdigits.tes')\n",
    "# Convertimos en dataframe\n",
    "y_train_df = pd.DataFrame(data=y_train)\n",
    "y_test_df = pd.DataFrame(data=y_test)\n",
    "# Cambiamos el nombre de las columnas\n",
    "X_train = X_train.add_prefix('Característica ')\n",
    "X_test = X_test.add_prefix('Característica ')\n",
    "y_train_df.rename(columns={64:'Dígito'}, inplace=True)\n",
    "y_test_df.rename(columns={64:'Dígito'}, inplace=True)"
   ]
  },
  {
   "cell_type": "code",
   "execution_count": 5,
   "metadata": {},
   "outputs": [
    {
     "name": "stdout",
     "output_type": "stream",
     "text": [
      "El número de instancias de entrenamiento es de: 3823\n",
      "El número de instancias de test es de: 1797\n",
      "Porcentaje de train: 68.02491103202847, porcentaje de test: 31.97508896797153\n"
     ]
    }
   ],
   "source": [
    "# Estadísticas de los datos leídos\n",
    "n_train = X_train.shape[0]\n",
    "n_test = X_test.shape[0]\n",
    "porcentaje_train = 100*n_train/(n_test+n_train)\n",
    "porcentaje_test = 100*n_test/(n_test+n_train)\n",
    "print(\"El número de instancias de entrenamiento es de: {}\".format(X_train.shape[0]))\n",
    "print(\"El número de instancias de test es de: {}\".format(X_test.shape[0]))\n",
    "print(\"Porcentaje de train: {}, porcentaje de test: {}\".format(porcentaje_train, porcentaje_test))"
   ]
  },
  {
   "cell_type": "code",
   "execution_count": 6,
   "metadata": {},
   "outputs": [
    {
     "name": "stdout",
     "output_type": "stream",
     "text": [
      "Valores perdidos en el dataset de entrenamiento: 0\n",
      "Valores perdidos en el dataset de test: 0\n"
     ]
    }
   ],
   "source": [
    "# Aunque los datos están preprocesados y esperamos no tener valores perdidos, lo comprobamos:\n",
    "print(\"Valores perdidos en el dataset de entrenamiento: {}\".format(X_train.isnull().sum().sum() \n",
    "                                                                    + y_train_df.isnull().sum().sum()))\n",
    "print(\"Valores perdidos en el dataset de test: {}\".format(X_test.isnull().sum().sum() \n",
    "                                                                    + y_test_df.isnull().sum().sum()))"
   ]
  },
  {
   "cell_type": "code",
   "execution_count": 7,
   "metadata": {},
   "outputs": [],
   "source": [
    "def parseBooleano(boleano):\n",
    "    if (boleano == True):\n",
    "        return 'Sí'\n",
    "    return 'No'"
   ]
  },
  {
   "cell_type": "code",
   "execution_count": 8,
   "metadata": {},
   "outputs": [
    {
     "name": "stdout",
     "output_type": "stream",
     "text": [
      "Todos los valores de entrenamiento son enteros: Sí\n",
      "Todos los valores de test son enteros: Sí\n",
      "Todos los valores de las características de entrenamiento pertenecen al intervalo: [0,16]\n",
      "Todos los valores de las características de test pertenecen al intervalo: [0,16]\n",
      "Todos los valores de las etiquetas de entrenamiento pertenecen al intervalo: [0,9]\n",
      "Todos los valores de las características de test pertenecen al intervalo: [0,9]\n"
     ]
    }
   ],
   "source": [
    "# Comprobación de outliers: 'Comprobamos que los valores sean enteros y estén entre 0 y 16'\n",
    "print(\"Todos los valores de entrenamiento son enteros: {}\".format(\n",
    "        parseBooleano(X_train.dtypes.unique() == type(0) and y_train_df.dtypes.unique() == type(0))))\n",
    "print(\"Todos los valores de test son enteros: {}\".format(\n",
    "        parseBooleano(X_test.dtypes.unique() == type(0) and y_test_df.dtypes.unique() == type(0))))\n",
    "print(\"Todos los valores de las características de entrenamiento pertenecen al intervalo: [{},{}]\".format(\n",
    "        X_train.values.min(), X_train.values.max()))\n",
    "print(\"Todos los valores de las características de test pertenecen al intervalo: [{},{}]\".format(\n",
    "        X_test.values.min(), X_test.values.max()))\n",
    "print(\"Todos los valores de las etiquetas de entrenamiento pertenecen al intervalo: [{},{}]\".format(\n",
    "        y_train_df.values.min(), y_train_df.values.max()))\n",
    "print(\"Todos los valores de las características de test pertenecen al intervalo: [{},{}]\".format(\n",
    "        y_test_df.values.min(), y_test_df.values.max()))"
   ]
  },
  {
   "cell_type": "code",
   "execution_count": 9,
   "metadata": {},
   "outputs": [
    {
     "name": "stdout",
     "output_type": "stream",
     "text": [
      "Dataset de entrenamiento\n",
      "\t 376 instancias del dígito 0\n",
      "\t 389 instancias del dígito 1\n",
      "\t 380 instancias del dígito 2\n",
      "\t 389 instancias del dígito 3\n",
      "\t 387 instancias del dígito 4\n",
      "\t 376 instancias del dígito 5\n",
      "\t 377 instancias del dígito 6\n",
      "\t 387 instancias del dígito 7\n",
      "\t 380 instancias del dígito 8\n",
      "\t 382 instancias del dígito 9\n",
      "\n",
      "\n",
      "Dataset de test\n",
      "\t 178 instancias del dígito 0\n",
      "\t 182 instancias del dígito 1\n",
      "\t 177 instancias del dígito 2\n",
      "\t 183 instancias del dígito 3\n",
      "\t 181 instancias del dígito 4\n",
      "\t 182 instancias del dígito 5\n",
      "\t 181 instancias del dígito 6\n",
      "\t 179 instancias del dígito 7\n",
      "\t 174 instancias del dígito 8\n",
      "\t 180 instancias del dígito 9\n"
     ]
    }
   ],
   "source": [
    "# Instancias por clase'\n",
    "print(\"Dataset de entrenamiento\")\n",
    "for i in range (len(y_train_df['Dígito'].unique())):\n",
    "    print(\"\\t {} instancias del dígito {}\".format(y_train_df['Dígito'].value_counts()[i],i))\n",
    "print(\"\\n\")\n",
    "print(\"Dataset de test\")\n",
    "for i in range (len(y_train_df['Dígito'].unique())):\n",
    "    print(\"\\t {} instancias del dígito {}\".format(y_test_df['Dígito'].value_counts()[i],i))"
   ]
  },
  {
   "cell_type": "code",
   "execution_count": 10,
   "metadata": {},
   "outputs": [
    {
     "data": {
      "text/plain": [
       "Pipeline(memory=None,\n",
       "         steps=[('escalado',\n",
       "                 StandardScaler(copy=True, with_mean=True, with_std=True)),\n",
       "                ('PCA',\n",
       "                 PCA(copy=True, iterated_power='auto', n_components=0.98,\n",
       "                     random_state=None, svd_solver='auto', tol=0.0,\n",
       "                     whiten=False))],\n",
       "         verbose=False)"
      ]
     },
     "execution_count": 10,
     "metadata": {},
     "output_type": "execute_result"
    }
   ],
   "source": [
    "from sklearn.preprocessing import StandardScaler, FunctionTransformer\n",
    "from sklearn.decomposition import PCA\n",
    "from sklearn.pipeline import Pipeline\n",
    "from sklearn.feature_selection import VarianceThreshold\n",
    "\n",
    "preprocesado = [(\"escalado\", StandardScaler()),\n",
    "                (\"PCA\", PCA(n_components=0.98))]\n",
    "\n",
    "preprocesador = Pipeline(preprocesado)\n",
    "preprocesador"
   ]
  },
  {
   "cell_type": "code",
   "execution_count": 11,
   "metadata": {},
   "outputs": [
    {
     "data": {
      "image/png": "[encoded data removed]",
      "text/plain": [
       "<Figure size 720x576 with 2 Axes>"
      ]
     },
     "metadata": {
      "needs_background": "light"
     },
     "output_type": "display_data"
    }
   ],
   "source": [
    "import seaborn as sns\n",
    "def matriz_correlaciones(datos):\n",
    "    f, ax = plt.subplots(figsize=(10, 8))\n",
    "    corr = datos.corr()\n",
    "    sns.heatmap(corr, mask=np.zeros_like(corr, dtype=np.bool), cmap=sns.diverging_palette(220, 10, as_cmap=True),\n",
    "               square=True, ax=ax)\n",
    "    f.suptitle('Matriz Correlaciones')\n",
    "matriz_correlaciones(X_train)\n"
   ]
  },
  {
   "cell_type": "code",
   "execution_count": 12,
   "metadata": {},
   "outputs": [
    {
     "data": {
      "image/png": "[encoded data removed]",
      "text/plain": [
       "<Figure size 720x576 with 2 Axes>"
      ]
     },
     "metadata": {
      "needs_background": "light"
     },
     "output_type": "display_data"
    }
   ],
   "source": [
    "def matriz_correlaciones_procesados(datos):\n",
    "    f, ax = plt.subplots(figsize=(10, 8))\n",
    "    corr = np.corrcoef(datos.T)\n",
    "    sns.heatmap(corr, mask=np.zeros_like(corr, dtype=np.bool), cmap=sns.diverging_palette(220, 10, as_cmap=True),\n",
    "               square=True, ax=ax)\n",
    "    f.suptitle('Matriz Correlaciones')\n",
    "datos_preprocesados = preprocesador.fit_transform(X_train)\n",
    "matriz_correlaciones_procesados(preprocesador.fit_transform(X_train))"
   ]
  },
  {
   "cell_type": "code",
   "execution_count": 13,
   "metadata": {},
   "outputs": [
    {
     "data": {
      "text/html": [
       "<div>\n",
       "<style scoped>\n",
       "    .dataframe tbody tr th:only-of-type {\n",
       "        vertical-align: middle;\n",
       "    }\n",
       "\n",
       "    .dataframe tbody tr th {\n",
       "        vertical-align: top;\n",
       "    }\n",
       "\n",
       "    .dataframe thead th {\n",
       "        text-align: right;\n",
       "    }\n",
       "</style>\n",
       "<table border=\"1\" class=\"dataframe\">\n",
       "  <thead>\n",
       "    <tr style=\"text-align: right;\">\n",
       "      <th></th>\n",
       "      <th>Característica 0</th>\n",
       "      <th>Característica 1</th>\n",
       "      <th>Característica 2</th>\n",
       "      <th>Característica 3</th>\n",
       "      <th>Característica 4</th>\n",
       "      <th>Característica 5</th>\n",
       "      <th>Característica 6</th>\n",
       "      <th>Característica 7</th>\n",
       "      <th>Característica 8</th>\n",
       "      <th>Característica 9</th>\n",
       "      <th>...</th>\n",
       "      <th>Característica 41</th>\n",
       "      <th>Característica 42</th>\n",
       "      <th>Característica 43</th>\n",
       "      <th>Característica 44</th>\n",
       "      <th>Característica 45</th>\n",
       "      <th>Característica 46</th>\n",
       "      <th>Característica 47</th>\n",
       "      <th>Característica 48</th>\n",
       "      <th>Característica 49</th>\n",
       "      <th>Característica 50</th>\n",
       "    </tr>\n",
       "  </thead>\n",
       "  <tbody>\n",
       "    <tr>\n",
       "      <th>0</th>\n",
       "      <td>0.021179</td>\n",
       "      <td>-1.506218</td>\n",
       "      <td>4.028060</td>\n",
       "      <td>2.837064</td>\n",
       "      <td>1.121506</td>\n",
       "      <td>-1.048719</td>\n",
       "      <td>0.150893</td>\n",
       "      <td>-0.236166</td>\n",
       "      <td>-1.144235</td>\n",
       "      <td>0.216062</td>\n",
       "      <td>...</td>\n",
       "      <td>-0.313406</td>\n",
       "      <td>-0.022308</td>\n",
       "      <td>-0.704609</td>\n",
       "      <td>-0.614426</td>\n",
       "      <td>0.193583</td>\n",
       "      <td>0.413726</td>\n",
       "      <td>-0.354086</td>\n",
       "      <td>-0.099895</td>\n",
       "      <td>0.014408</td>\n",
       "      <td>0.192407</td>\n",
       "    </tr>\n",
       "    <tr>\n",
       "      <th>1</th>\n",
       "      <td>-0.436318</td>\n",
       "      <td>-3.001971</td>\n",
       "      <td>6.068029</td>\n",
       "      <td>2.907716</td>\n",
       "      <td>1.439000</td>\n",
       "      <td>-0.447028</td>\n",
       "      <td>0.798956</td>\n",
       "      <td>-1.762127</td>\n",
       "      <td>-1.696441</td>\n",
       "      <td>-0.287052</td>\n",
       "      <td>...</td>\n",
       "      <td>0.193374</td>\n",
       "      <td>0.331185</td>\n",
       "      <td>-0.361748</td>\n",
       "      <td>-0.245715</td>\n",
       "      <td>0.479165</td>\n",
       "      <td>-0.144064</td>\n",
       "      <td>-0.070342</td>\n",
       "      <td>0.235457</td>\n",
       "      <td>-0.080707</td>\n",
       "      <td>0.044564</td>\n",
       "    </tr>\n",
       "    <tr>\n",
       "      <th>2</th>\n",
       "      <td>1.363008</td>\n",
       "      <td>3.160016</td>\n",
       "      <td>-0.743226</td>\n",
       "      <td>1.395725</td>\n",
       "      <td>0.314563</td>\n",
       "      <td>0.968713</td>\n",
       "      <td>-3.625171</td>\n",
       "      <td>-2.136621</td>\n",
       "      <td>-0.731816</td>\n",
       "      <td>0.292576</td>\n",
       "      <td>...</td>\n",
       "      <td>-0.043264</td>\n",
       "      <td>0.066477</td>\n",
       "      <td>0.631655</td>\n",
       "      <td>0.469013</td>\n",
       "      <td>-0.433559</td>\n",
       "      <td>-0.596600</td>\n",
       "      <td>-0.682001</td>\n",
       "      <td>-0.114734</td>\n",
       "      <td>0.314444</td>\n",
       "      <td>-0.251355</td>\n",
       "    </tr>\n",
       "    <tr>\n",
       "      <th>3</th>\n",
       "      <td>4.499442</td>\n",
       "      <td>0.949555</td>\n",
       "      <td>0.433865</td>\n",
       "      <td>-1.720058</td>\n",
       "      <td>-0.517172</td>\n",
       "      <td>-2.701682</td>\n",
       "      <td>1.721142</td>\n",
       "      <td>0.417025</td>\n",
       "      <td>-1.923872</td>\n",
       "      <td>1.028773</td>\n",
       "      <td>...</td>\n",
       "      <td>0.292342</td>\n",
       "      <td>0.194547</td>\n",
       "      <td>0.711831</td>\n",
       "      <td>-0.143925</td>\n",
       "      <td>-0.060813</td>\n",
       "      <td>-0.208455</td>\n",
       "      <td>0.431938</td>\n",
       "      <td>-0.840509</td>\n",
       "      <td>0.590945</td>\n",
       "      <td>-0.367259</td>\n",
       "    </tr>\n",
       "    <tr>\n",
       "      <th>4</th>\n",
       "      <td>-1.199084</td>\n",
       "      <td>-3.264752</td>\n",
       "      <td>1.706263</td>\n",
       "      <td>1.130340</td>\n",
       "      <td>-1.262345</td>\n",
       "      <td>-0.225203</td>\n",
       "      <td>-1.368362</td>\n",
       "      <td>2.425412</td>\n",
       "      <td>0.360641</td>\n",
       "      <td>-0.039846</td>\n",
       "      <td>...</td>\n",
       "      <td>-0.099834</td>\n",
       "      <td>-0.220939</td>\n",
       "      <td>0.005490</td>\n",
       "      <td>0.773234</td>\n",
       "      <td>0.147666</td>\n",
       "      <td>-0.344447</td>\n",
       "      <td>0.764609</td>\n",
       "      <td>-0.213324</td>\n",
       "      <td>0.394934</td>\n",
       "      <td>-1.046653</td>\n",
       "    </tr>\n",
       "    <tr>\n",
       "      <th>...</th>\n",
       "      <td>...</td>\n",
       "      <td>...</td>\n",
       "      <td>...</td>\n",
       "      <td>...</td>\n",
       "      <td>...</td>\n",
       "      <td>...</td>\n",
       "      <td>...</td>\n",
       "      <td>...</td>\n",
       "      <td>...</td>\n",
       "      <td>...</td>\n",
       "      <td>...</td>\n",
       "      <td>...</td>\n",
       "      <td>...</td>\n",
       "      <td>...</td>\n",
       "      <td>...</td>\n",
       "      <td>...</td>\n",
       "      <td>...</td>\n",
       "      <td>...</td>\n",
       "      <td>...</td>\n",
       "      <td>...</td>\n",
       "      <td>...</td>\n",
       "    </tr>\n",
       "    <tr>\n",
       "      <th>3818</th>\n",
       "      <td>-0.664700</td>\n",
       "      <td>0.199198</td>\n",
       "      <td>4.083232</td>\n",
       "      <td>-1.080674</td>\n",
       "      <td>-1.692163</td>\n",
       "      <td>1.007006</td>\n",
       "      <td>-0.950205</td>\n",
       "      <td>0.498456</td>\n",
       "      <td>-0.628901</td>\n",
       "      <td>1.043451</td>\n",
       "      <td>...</td>\n",
       "      <td>-0.016979</td>\n",
       "      <td>0.147137</td>\n",
       "      <td>-0.623377</td>\n",
       "      <td>0.505707</td>\n",
       "      <td>-0.370902</td>\n",
       "      <td>0.590894</td>\n",
       "      <td>0.245106</td>\n",
       "      <td>-0.238968</td>\n",
       "      <td>0.308135</td>\n",
       "      <td>0.079277</td>\n",
       "    </tr>\n",
       "    <tr>\n",
       "      <th>3819</th>\n",
       "      <td>4.295936</td>\n",
       "      <td>-4.344692</td>\n",
       "      <td>-2.048086</td>\n",
       "      <td>1.937549</td>\n",
       "      <td>3.064987</td>\n",
       "      <td>0.580706</td>\n",
       "      <td>0.111593</td>\n",
       "      <td>-0.103625</td>\n",
       "      <td>-1.386905</td>\n",
       "      <td>-0.574874</td>\n",
       "      <td>...</td>\n",
       "      <td>0.662172</td>\n",
       "      <td>-0.107658</td>\n",
       "      <td>-0.301610</td>\n",
       "      <td>-0.210923</td>\n",
       "      <td>-0.262026</td>\n",
       "      <td>0.830580</td>\n",
       "      <td>0.430991</td>\n",
       "      <td>0.228538</td>\n",
       "      <td>-0.428330</td>\n",
       "      <td>-0.063009</td>\n",
       "    </tr>\n",
       "    <tr>\n",
       "      <th>3820</th>\n",
       "      <td>-0.360348</td>\n",
       "      <td>-3.822805</td>\n",
       "      <td>-1.171858</td>\n",
       "      <td>1.853227</td>\n",
       "      <td>-0.492848</td>\n",
       "      <td>0.137883</td>\n",
       "      <td>-1.624683</td>\n",
       "      <td>1.360577</td>\n",
       "      <td>1.415196</td>\n",
       "      <td>-1.159309</td>\n",
       "      <td>...</td>\n",
       "      <td>0.094687</td>\n",
       "      <td>0.015961</td>\n",
       "      <td>0.522414</td>\n",
       "      <td>0.131142</td>\n",
       "      <td>-0.733367</td>\n",
       "      <td>-0.170213</td>\n",
       "      <td>0.066077</td>\n",
       "      <td>-0.820419</td>\n",
       "      <td>0.291541</td>\n",
       "      <td>0.531784</td>\n",
       "    </tr>\n",
       "    <tr>\n",
       "      <th>3821</th>\n",
       "      <td>-1.351938</td>\n",
       "      <td>-5.283408</td>\n",
       "      <td>1.079286</td>\n",
       "      <td>3.439551</td>\n",
       "      <td>-1.187103</td>\n",
       "      <td>0.748811</td>\n",
       "      <td>-1.533931</td>\n",
       "      <td>1.703575</td>\n",
       "      <td>-0.440460</td>\n",
       "      <td>0.615567</td>\n",
       "      <td>...</td>\n",
       "      <td>0.897683</td>\n",
       "      <td>0.095846</td>\n",
       "      <td>-0.397785</td>\n",
       "      <td>-0.174518</td>\n",
       "      <td>0.571117</td>\n",
       "      <td>-0.180024</td>\n",
       "      <td>0.938540</td>\n",
       "      <td>-0.419029</td>\n",
       "      <td>-0.414359</td>\n",
       "      <td>-0.236735</td>\n",
       "    </tr>\n",
       "    <tr>\n",
       "      <th>3822</th>\n",
       "      <td>3.375207</td>\n",
       "      <td>4.220092</td>\n",
       "      <td>0.595156</td>\n",
       "      <td>0.048416</td>\n",
       "      <td>-1.199746</td>\n",
       "      <td>1.398314</td>\n",
       "      <td>-1.116004</td>\n",
       "      <td>-1.452023</td>\n",
       "      <td>-1.034071</td>\n",
       "      <td>0.813605</td>\n",
       "      <td>...</td>\n",
       "      <td>-0.228436</td>\n",
       "      <td>0.042213</td>\n",
       "      <td>0.448690</td>\n",
       "      <td>0.210932</td>\n",
       "      <td>-0.041207</td>\n",
       "      <td>-1.180503</td>\n",
       "      <td>-0.752859</td>\n",
       "      <td>-0.213471</td>\n",
       "      <td>-0.862734</td>\n",
       "      <td>-0.325598</td>\n",
       "    </tr>\n",
       "  </tbody>\n",
       "</table>\n",
       "<p>3823 rows × 51 columns</p>\n",
       "</div>"
      ],
      "text/plain": [
       "      Característica 0  Característica 1  Característica 2  Característica 3  \\\n",
       "0             0.021179         -1.506218          4.028060          2.837064   \n",
       "1            -0.436318         -3.001971          6.068029          2.907716   \n",
       "2             1.363008          3.160016         -0.743226          1.395725   \n",
       "3             4.499442          0.949555          0.433865         -1.720058   \n",
       "4            -1.199084         -3.264752          1.706263          1.130340   \n",
       "...                ...               ...               ...               ...   \n",
       "3818         -0.664700          0.199198          4.083232         -1.080674   \n",
       "3819          4.295936         -4.344692         -2.048086          1.937549   \n",
       "3820         -0.360348         -3.822805         -1.171858          1.853227   \n",
       "3821         -1.351938         -5.283408          1.079286          3.439551   \n",
       "3822          3.375207          4.220092          0.595156          0.048416   \n",
       "\n",
       "      Característica 4  Característica 5  Característica 6  Característica 7  \\\n",
       "0             1.121506         -1.048719          0.150893         -0.236166   \n",
       "1             1.439000         -0.447028          0.798956         -1.762127   \n",
       "2             0.314563          0.968713         -3.625171         -2.136621   \n",
       "3            -0.517172         -2.701682          1.721142          0.417025   \n",
       "4            -1.262345         -0.225203         -1.368362          2.425412   \n",
       "...                ...               ...               ...               ...   \n",
       "3818         -1.692163          1.007006         -0.950205          0.498456   \n",
       "3819          3.064987          0.580706          0.111593         -0.103625   \n",
       "3820         -0.492848          0.137883         -1.624683          1.360577   \n",
       "3821         -1.187103          0.748811         -1.533931          1.703575   \n",
       "3822         -1.199746          1.398314         -1.116004         -1.452023   \n",
       "\n",
       "      Característica 8  Característica 9  ...  Característica 41  \\\n",
       "0            -1.144235          0.216062  ...          -0.313406   \n",
       "1            -1.696441         -0.287052  ...           0.193374   \n",
       "2            -0.731816          0.292576  ...          -0.043264   \n",
       "3            -1.923872          1.028773  ...           0.292342   \n",
       "4             0.360641         -0.039846  ...          -0.099834   \n",
       "...                ...               ...  ...                ...   \n",
       "3818         -0.628901          1.043451  ...          -0.016979   \n",
       "3819         -1.386905         -0.574874  ...           0.662172   \n",
       "3820          1.415196         -1.159309  ...           0.094687   \n",
       "3821         -0.440460          0.615567  ...           0.897683   \n",
       "3822         -1.034071          0.813605  ...          -0.228436   \n",
       "\n",
       "      Característica 42  Característica 43  Característica 44  \\\n",
       "0             -0.022308          -0.704609          -0.614426   \n",
       "1              0.331185          -0.361748          -0.245715   \n",
       "2              0.066477           0.631655           0.469013   \n",
       "3              0.194547           0.711831          -0.143925   \n",
       "4             -0.220939           0.005490           0.773234   \n",
       "...                 ...                ...                ...   \n",
       "3818           0.147137          -0.623377           0.505707   \n",
       "3819          -0.107658          -0.301610          -0.210923   \n",
       "3820           0.015961           0.522414           0.131142   \n",
       "3821           0.095846          -0.397785          -0.174518   \n",
       "3822           0.042213           0.448690           0.210932   \n",
       "\n",
       "      Característica 45  Característica 46  Característica 47  \\\n",
       "0              0.193583           0.413726          -0.354086   \n",
       "1              0.479165          -0.144064          -0.070342   \n",
       "2             -0.433559          -0.596600          -0.682001   \n",
       "3             -0.060813          -0.208455           0.431938   \n",
       "4              0.147666          -0.344447           0.764609   \n",
       "...                 ...                ...                ...   \n",
       "3818          -0.370902           0.590894           0.245106   \n",
       "3819          -0.262026           0.830580           0.430991   \n",
       "3820          -0.733367          -0.170213           0.066077   \n",
       "3821           0.571117          -0.180024           0.938540   \n",
       "3822          -0.041207          -1.180503          -0.752859   \n",
       "\n",
       "      Característica 48  Característica 49  Característica 50  \n",
       "0             -0.099895           0.014408           0.192407  \n",
       "1              0.235457          -0.080707           0.044564  \n",
       "2             -0.114734           0.314444          -0.251355  \n",
       "3             -0.840509           0.590945          -0.367259  \n",
       "4             -0.213324           0.394934          -1.046653  \n",
       "...                 ...                ...                ...  \n",
       "3818          -0.238968           0.308135           0.079277  \n",
       "3819           0.228538          -0.428330          -0.063009  \n",
       "3820          -0.820419           0.291541           0.531784  \n",
       "3821          -0.419029          -0.414359          -0.236735  \n",
       "3822          -0.213471          -0.862734          -0.325598  \n",
       "\n",
       "[3823 rows x 51 columns]"
      ]
     },
     "execution_count": 13,
     "metadata": {},
     "output_type": "execute_result"
    }
   ],
   "source": [
    "# Convertimos en dataframe\n",
    "X_train_procesados = pd.DataFrame(data=datos_preprocesados)\n",
    "\n",
    "# Cambiamos el nombre de las columnas\n",
    "X_train_procesados = X_train_procesados.add_prefix('Característica ')\n",
    "X_train_procesados"
   ]
  },
  {
   "cell_type": "code",
   "execution_count": 14,
   "metadata": {},
   "outputs": [
    {
     "name": "stdout",
     "output_type": "stream",
     "text": [
      "El número de características actuales es de: 51\n"
     ]
    }
   ],
   "source": [
    "# Estadísticas de los datos procesados\n",
    "n_características = X_train_procesados.shape[1]\n",
    "print(\"El número de características actuales es de: {}\".format(n_características))\n"
   ]
  },
  {
   "cell_type": "code",
   "execution_count": 15,
   "metadata": {},
   "outputs": [],
   "source": [
    "# Definimos el clasificador\n",
    "from sklearn.linear_model import LogisticRegressionCV\n",
    "\n",
    "clasificador = LogisticRegressionCV(cv=5, # Número de cross validation\n",
    "                                    penalty='l2', # Regularización Ridge (L2)\n",
    "                                    scoring='accuracy', # Métrica acurracy\n",
    "                                    multi_class='multinomial', # Indicamos que la regresión logística es multinomial\n",
    "                                    max_iter = 600) # Número máximo de iteraciones del algoritmo de optimización."
   ]
  },
  {
   "cell_type": "code",
   "execution_count": 16,
   "metadata": {},
   "outputs": [
    {
     "data": {
      "text/plain": [
       "Pipeline(memory=None,\n",
       "         steps=[('preprocesador',\n",
       "                 Pipeline(memory=None,\n",
       "                          steps=[('escalado',\n",
       "                                  StandardScaler(copy=True, with_mean=True,\n",
       "                                                 with_std=True)),\n",
       "                                 ('PCA',\n",
       "                                  PCA(copy=True, iterated_power='auto',\n",
       "                                      n_components=0.98, random_state=None,\n",
       "                                      svd_solver='auto', tol=0.0,\n",
       "                                      whiten=False))],\n",
       "                          verbose=False)),\n",
       "                ('clasificador',\n",
       "                 LogisticRegressionCV(Cs=10, class_weight=None, cv=5,\n",
       "                                      dual=False, fit_intercept=True,\n",
       "                                      intercept_scaling=1.0, l1_ratios=None,\n",
       "                                      max_iter=600, multi_class='multinomial',\n",
       "                                      n_jobs=None, penalty='l2',\n",
       "                                      random_state=None, refit=True,\n",
       "                                      scoring='accuracy', solver='lbfgs',\n",
       "                                      tol=0.0001, verbose=0))],\n",
       "         verbose=False)"
      ]
     },
     "execution_count": 16,
     "metadata": {},
     "output_type": "execute_result"
    }
   ],
   "source": [
    "lr = Pipeline(steps=[('preprocesador', preprocesador),\n",
    "                      ('clasificador', clasificador)])\n",
    "\n",
    "# Preprocessing of training data, fit model \n",
    "lr.fit(X_train, y_train)"
   ]
  },
  {
   "cell_type": "code",
   "execution_count": 17,
   "metadata": {},
   "outputs": [
    {
     "data": {
      "text/plain": [
       "array([0, 1, 8, ..., 8, 9, 8])"
      ]
     },
     "execution_count": 17,
     "metadata": {},
     "output_type": "execute_result"
    }
   ],
   "source": [
    "# Preprocessing of validation data, get predictions\n",
    "y_predecida = lr.predict(X_test)\n",
    "y_predecida"
   ]
  },
  {
   "cell_type": "code",
   "execution_count": 18,
   "metadata": {},
   "outputs": [
    {
     "data": {
      "text/plain": [
       "array([[177,   0,   0,   0,   0,   1,   0,   0,   0,   0],\n",
       "       [  0, 175,   0,   0,   0,   0,   2,   0,   2,   3],\n",
       "       [  0,   3, 171,   0,   0,   0,   1,   0,   2,   0],\n",
       "       [  0,   0,   5, 167,   0,   4,   0,   2,   4,   1],\n",
       "       [  0,   1,   0,   0, 176,   0,   0,   1,   2,   1],\n",
       "       [  0,   0,   0,   0,   0, 179,   1,   0,   0,   2],\n",
       "       [  0,   1,   0,   0,   2,   0, 177,   0,   1,   0],\n",
       "       [  0,   0,   0,   0,   2,   7,   0, 165,   1,   4],\n",
       "       [  0,   9,   0,   1,   0,   1,   0,   0, 156,   7],\n",
       "       [  0,   0,   0,   0,   5,   4,   0,   0,   2, 169]])"
      ]
     },
     "execution_count": 18,
     "metadata": {},
     "output_type": "execute_result"
    }
   ],
   "source": [
    "from sklearn.metrics import confusion_matrix\n",
    "m = confusion_matrix(y_test, y_predecida)\n",
    "m"
   ]
  },
  {
   "cell_type": "code",
   "execution_count": 19,
   "metadata": {},
   "outputs": [],
   "source": [
    "def estima_error_clasif(clasificador, X_tra, y_tra, X_test, y_test, nombre):\n",
    "  print(\"Error de {} en training: {:.10f}\".format(\n",
    "    nombre, 1 - clasificador.score(X_tra, y_tra)))\n",
    "  print(\"Error de {} en test: {:.10f}\".format(\n",
    "    nombre, 1 - clasificador.score(X_test, y_test)))"
   ]
  },
  {
   "cell_type": "code",
   "execution_count": 20,
   "metadata": {},
   "outputs": [
    {
     "name": "stdout",
     "output_type": "stream",
     "text": [
      "Error de Logístico en training: 0.0128171593\n",
      "Error de Logístico en test: 0.0473010573\n"
     ]
    }
   ],
   "source": [
    "estima_error_clasif(lr, X_train, y_train, X_test,\n",
    "                    y_test, \"Logístico\")\n"
   ]
  },
  {
   "cell_type": "code",
   "execution_count": 21,
   "metadata": {},
   "outputs": [],
   "source": [
    "def pinta_matriz_confusion(m):\n",
    "    m = 100*m.astype(\"float64\")/m.sum(axis=1)[:, np.newaxis]\n",
    "    fig, ax = plt.subplots(figsize=(10, 8))\n",
    "    ax.matshow(m, cmap=\"Greys\")\n",
    "    ax.set(title=\"Matriz de confusión para predictor\",\n",
    "         xticks=np.arange(10),\n",
    "         yticks=np.arange(10),\n",
    "         xlabel=\"Etiqueta original\",\n",
    "         ylabel=\"Etiqueta predicha\")\n",
    "\n",
    "    for i in range(10):\n",
    "        for j in range(10):\n",
    "            ax.text(j,\n",
    "                  i,\n",
    "                  \"{:.2f}%\".format(m[i, j]),\n",
    "                  ha=\"center\",\n",
    "                  va=\"center\",\n",
    "                  color=\"black\" if m[i, j] < 50 else \"white\")\n",
    "\n",
    "    plt.show()"
   ]
  },
  {
   "cell_type": "code",
   "execution_count": 22,
   "metadata": {},
   "outputs": [],
   "source": [
    "# Accuracy de la matriz de confusión directamente\n",
    "def accuracy(m):\n",
    "    verdaderos = 0\n",
    "    totales = 0\n",
    "    for i in range(m.shape[0]):\n",
    "        verdaderos += m[i][i]\n",
    "    totales = sum(sum(x) for x in m)\n",
    "    return verdaderos/totales"
   ]
  },
  {
   "cell_type": "code",
   "execution_count": 23,
   "metadata": {},
   "outputs": [
    {
     "data": {
      "text/plain": [
       "0.9526989426822482"
      ]
     },
     "execution_count": 23,
     "metadata": {},
     "output_type": "execute_result"
    }
   ],
   "source": [
    "accuracy(m)"
   ]
  },
  {
   "cell_type": "code",
   "execution_count": 24,
   "metadata": {},
   "outputs": [
    {
     "data": {
      "image/png": "[encoded data removed]",
      "text/plain": [
       "<Figure size 720x576 with 1 Axes>"
      ]
     },
     "metadata": {
      "needs_background": "light"
     },
     "output_type": "display_data"
    }
   ],
   "source": [
    "pinta_matriz_confusion(m)"
   ]
  }
 ],
 "metadata": {
  "kernelspec": {
   "display_name": "Python 3",
   "language": "python",
   "name": "python3"
  },
  "language_info": {
   "codemirror_mode": {
    "name": "ipython",
    "version": 3
   },
   "file_extension": ".py",
   "mimetype": "text/x-python",
   "name": "python",
   "nbconvert_exporter": "python",
   "pygments_lexer": "ipython3",
   "version": "3.6.8"
  }
 },
 "nbformat": 4,
 "nbformat_minor": 4
}
