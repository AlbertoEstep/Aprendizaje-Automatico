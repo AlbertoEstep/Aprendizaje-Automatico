{
 "cells": [
  {
   "cell_type": "markdown",
   "metadata": {},
   "source": [
    "# Optical Recognition of Handwritten Digits"
   ]
  },
  {
   "cell_type": "code",
   "execution_count": 1,
   "metadata": {},
   "outputs": [],
   "source": [
    "# Importamos las librerías necesarias\n",
    "import numpy as np\n",
    "import pandas as pd\n",
    "import matplotlib.pyplot as plt"
   ]
  },
  {
   "cell_type": "code",
   "execution_count": 2,
   "metadata": {},
   "outputs": [],
   "source": [
    "# Función para leer los datos\n",
    "def leerDatos(file):\n",
    "    datos = pd.read_csv(file, header=None)\n",
    "    X = datos.iloc[:,:-1] # Todas las columnas menos la última\n",
    "    y = datos.iloc[:, -1] # Última columna\n",
    "    return X, y"
   ]
  },
  {
   "cell_type": "code",
   "execution_count": 3,
   "metadata": {},
   "outputs": [],
   "source": [
    "# Lectura de los datos de entrenamiento\n",
    "X_train, y_train = leerDatos('datos/optdigits.tra')\n",
    "# Lectura de los datos para el test\n",
    "X_test, y_test = leerDatos('datos/optdigits.tes')"
   ]
  },
  {
   "cell_type": "code",
   "execution_count": 4,
   "metadata": {},
   "outputs": [
    {
     "name": "stdout",
     "output_type": "stream",
     "text": [
      "El número de instancias de entrenamiento es de: 3823\n",
      "El número de instancias de test es de: 1797\n",
      "Porcentaje de train: 68.02491103202847, porcentaje de test: 31.97508896797153\n"
     ]
    }
   ],
   "source": [
    "# Estadísticas de los datos leídos\n",
    "n_train = X_train.shape[0]\n",
    "n_test = X_test.shape[0]\n",
    "porcentaje_train = 100*n_train/(n_test+n_train)\n",
    "porcentaje_test = 100*n_test/(n_test+n_train)\n",
    "print(\"El número de instancias de entrenamiento es de: {}\".format(X_train.shape[0]))\n",
    "print(\"El número de instancias de test es de: {}\".format(X_test.shape[0]))\n",
    "print(\"Porcentaje de train: {}, porcentaje de test: {}\".format(porcentaje_train, porcentaje_test))"
   ]
  },
  {
   "cell_type": "code",
   "execution_count": null,
   "metadata": {},
   "outputs": [],
   "source": []
  }
 ],
 "metadata": {
  "kernelspec": {
   "display_name": "Python 3",
   "language": "python",
   "name": "python3"
  },
  "language_info": {
   "codemirror_mode": {
    "name": "ipython",
    "version": 3
   },
   "file_extension": ".py",
   "mimetype": "text/x-python",
   "name": "python",
   "nbconvert_exporter": "python",
   "pygments_lexer": "ipython3",
   "version": "3.6.8"
  }
 },
 "nbformat": 4,
 "nbformat_minor": 4
}
